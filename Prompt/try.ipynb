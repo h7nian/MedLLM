{
 "cells": [
  {
   "cell_type": "code",
   "execution_count": 4,
   "metadata": {},
   "outputs": [
    {
     "data": {
      "text/html": [
       "<div>\n",
       "<style scoped>\n",
       "    .dataframe tbody tr th:only-of-type {\n",
       "        vertical-align: middle;\n",
       "    }\n",
       "\n",
       "    .dataframe tbody tr th {\n",
       "        vertical-align: top;\n",
       "    }\n",
       "\n",
       "    .dataframe thead th {\n",
       "        text-align: right;\n",
       "    }\n",
       "</style>\n",
       "<table border=\"1\" class=\"dataframe\">\n",
       "  <thead>\n",
       "    <tr style=\"text-align: right;\">\n",
       "      <th></th>\n",
       "      <th>note_id</th>\n",
       "      <th>subject_id</th>\n",
       "      <th>hadm_id</th>\n",
       "      <th>note_type</th>\n",
       "      <th>note_seq</th>\n",
       "      <th>charttime</th>\n",
       "      <th>storetime</th>\n",
       "      <th>text</th>\n",
       "    </tr>\n",
       "  </thead>\n",
       "  <tbody>\n",
       "    <tr>\n",
       "      <th>9</th>\n",
       "      <td>10024913-DS-19</td>\n",
       "      <td>10024913</td>\n",
       "      <td>27058919</td>\n",
       "      <td>DS</td>\n",
       "      <td>19</td>\n",
       "      <td>2162-11-15 00:00:00</td>\n",
       "      <td>2162-11-20 11:57:00</td>\n",
       "      <td>\\nName:  ___                    ___ No:   ___...</td>\n",
       "    </tr>\n",
       "  </tbody>\n",
       "</table>\n",
       "</div>"
      ],
      "text/plain": [
       "          note_id  subject_id   hadm_id note_type  note_seq  \\\n",
       "9  10024913-DS-19    10024913  27058919        DS        19   \n",
       "\n",
       "             charttime            storetime  \\\n",
       "9  2162-11-15 00:00:00  2162-11-20 11:57:00   \n",
       "\n",
       "                                                text  \n",
       "9   \\nName:  ___                    ___ No:   ___...  "
      ]
     },
     "execution_count": 4,
     "metadata": {},
     "output_type": "execute_result"
    }
   ],
   "source": [
    "import pandas as pd\n",
    "import re\n",
    "df = pd.read_csv('mimiciv_discharge.csv')\n",
    "df = df.loc[[9],]\n",
    "df"
   ]
  },
  {
   "cell_type": "code",
   "execution_count": 6,
   "metadata": {},
   "outputs": [],
   "source": [
    "def process_text(text,threshold=0.05):\n",
    "    \n",
    "    ## delete \\n\n",
    "    text = text.replace('\\n', '')\n",
    "    \n",
    "    ##delete the useless part\n",
    "    match = re.search(r'(?<=)Sex.*?(?=Followup Instructions:)', text)\n",
    "    text = match.group(0).strip() if match else text\n",
    "    \n",
    "    ## split the text\n",
    "    sections = re.split(r'([A-Z\\s]+:)', text)\n",
    "    underscore_ratios = [section.count('_') / len(section) if len(section) > 0 else 0 for section in sections]\n",
    "    sections = [section for section, ratio in zip(sections, underscore_ratios) if ratio <= threshold]\n",
    "    text = ''.join(sections)\n",
    "    \n",
    "    return text\n",
    "\n",
    "df['text'] = df['text'].apply(process_text)"
   ]
  },
  {
   "cell_type": "code",
   "execution_count": 1,
   "metadata": {},
   "outputs": [],
   "source": [
    "import json"
   ]
  },
  {
   "cell_type": "code",
   "execution_count": 7,
   "metadata": {},
   "outputs": [],
   "source": [
    "answers = {\n",
    "  \"qas\": [\n",
    "    {\n",
    "      \"answers\": [\n",
    "        {\n",
    "          \"answer_start\": 745,\n",
    "          \"text\": \"BLOOD WBC-6.3 RBC-2.63* Hgb-8.8* Hct-26.9*  MCV-102* MCH-33.5* MCHC-32.9 RDW-15.8* Plt\"\n",
    "        },\n",
    "        {\n",
    "          \"answer_start\": 1044,\n",
    "          \"text\": \"BLOOD Hct-23.9*\"\n",
    "        },\n",
    "        {\n",
    "          \"answer_start\": 1185,\n",
    "          \"text\": \"BLOOD WBC-4.8 RBC-2.92* Hgb-9.1* Hct-28.9*  MCV-99* MCH-31.3 MCHC-31.7 RDW-16.8* Plt\"\n",
    "        },\n",
    "        {\n",
    "          \"answer_start\": 1390,\n",
    "          \"text\": \"BLOOD Hct-29.3*\"\n",
    "        },\n",
    "        {\n",
    "          \"answer_start\": 1516,\n",
    "          \"text\": \"BLOOD WBC-4.0 RBC-3.04* Hgb-10.0* Hct-29.9*  MCV-99* MCH-33.0* MCHC-33.5 RDW-16.5* Plt\"\n",
    "        },\n",
    "        {\n",
    "          \"answer_start\": 1722,\n",
    "          \"text\": \"BLOOD Hct-30.6*\"\n",
    "        },\n",
    "        {\n",
    "          \"answer_start\": 1935,\n",
    "          \"text\": \"BLOOD WBC-5.8 RBC-3.31* Hgb-10.8* Hct-32.5*  MCV-98 MCH-32.5* MCHC-33.2 RDW-16.7* Plt\"\n",
    "        },\n",
    "        {\n",
    "          \"answer_start\": 2145,\n",
    "          \"text\": \"BLOOD Neuts-52.2\"\n",
    "        },\n",
    "        {\n",
    "          \"answer_start\": 2192,\n",
    "          \"text\": \"Monos-8.3 Eos-4.9*  Baso-0.9\"\n",
    "        },\n",
    "        {\n",
    "          \"answer_start\": 2238,\n",
    "          \"text\": \"BLOOD Glucose-94 UreaN-33* Creat-1.4* Na-144  K-4.1 Cl-112* HCO3-24 AnGap-12\"\n",
    "        },\n",
    "        {\n",
    "          \"answer_start\": 2289,\n",
    "          \"text\": \"BLOOD ALT-13 AST-19 AlkPhos-71 TotBili-0.3\"\n",
    "        },\n",
    "        {\n",
    "          \"answer_start\": 2338,\n",
    "          \"text\": \"BLOOD Albumin-3.6 Calcium-8.9 Phos-3.6 Mg-2.1\"\n",
    "        },\n",
    "        {\n",
    "          \"answer_start\": 2379,\n",
    "          \"text\": \"BLOOD VitB12-289 Folate-6.0\"\n",
    "        },\n",
    "        {\n",
    "          \"answer_start\": 2417,\n",
    "          \"text\": \"BLOOD TSH-3.8\"\n",
    "        },\n",
    "        {\n",
    "          \"answer_start\": 2460,\n",
    "          \"text\": \"METHYLMALONIC ACID-PND\"\n",
    "        }\n",
    "      ],\n",
    "      \"id\": 8,\n",
    "      \"question\": \"(Content extraction) Which sentences in the note describe the labs?\"\n",
    "    }\n",
    "  ]\n",
    "}"
   ]
  },
  {
   "cell_type": "code",
   "execution_count": 8,
   "metadata": {},
   "outputs": [
    {
     "data": {
      "text/plain": [
       "dict"
      ]
     },
     "execution_count": 8,
     "metadata": {},
     "output_type": "execute_result"
    }
   ],
   "source": [
    "type(answers)"
   ]
  },
  {
   "cell_type": "code",
   "execution_count": 9,
   "metadata": {},
   "outputs": [
    {
     "ename": "TypeError",
     "evalue": "the JSON object must be str, bytes or bytearray, not dict",
     "output_type": "error",
     "traceback": [
      "\u001b[0;31m---------------------------------------------------------------------------\u001b[0m",
      "\u001b[0;31mTypeError\u001b[0m                                 Traceback (most recent call last)",
      "\u001b[1;32m/Users/sinianzhang/Desktop/LLM/Prompt/try.ipynb 单元格 6\u001b[0m in \u001b[0;36m<cell line: 1>\u001b[0;34m()\u001b[0m\n\u001b[0;32m----> <a href='vscode-notebook-cell:/Users/sinianzhang/Desktop/LLM/Prompt/try.ipynb#W5sZmlsZQ%3D%3D?line=0'>1</a>\u001b[0m new_qas \u001b[39m=\u001b[39m json\u001b[39m.\u001b[39;49mloads(answers)\n",
      "File \u001b[0;32m~/opt/anaconda3/lib/python3.9/json/__init__.py:339\u001b[0m, in \u001b[0;36mloads\u001b[0;34m(s, cls, object_hook, parse_float, parse_int, parse_constant, object_pairs_hook, **kw)\u001b[0m\n\u001b[1;32m    337\u001b[0m \u001b[39melse\u001b[39;00m:\n\u001b[1;32m    338\u001b[0m     \u001b[39mif\u001b[39;00m \u001b[39mnot\u001b[39;00m \u001b[39misinstance\u001b[39m(s, (\u001b[39mbytes\u001b[39m, \u001b[39mbytearray\u001b[39m)):\n\u001b[0;32m--> 339\u001b[0m         \u001b[39mraise\u001b[39;00m \u001b[39mTypeError\u001b[39;00m(\u001b[39mf\u001b[39m\u001b[39m'\u001b[39m\u001b[39mthe JSON object must be str, bytes or bytearray, \u001b[39m\u001b[39m'\u001b[39m\n\u001b[1;32m    340\u001b[0m                         \u001b[39mf\u001b[39m\u001b[39m'\u001b[39m\u001b[39mnot \u001b[39m\u001b[39m{\u001b[39;00ms\u001b[39m.\u001b[39m\u001b[39m__class__\u001b[39m\u001b[39m.\u001b[39m\u001b[39m__name__\u001b[39m\u001b[39m}\u001b[39;00m\u001b[39m'\u001b[39m)\n\u001b[1;32m    341\u001b[0m     s \u001b[39m=\u001b[39m s\u001b[39m.\u001b[39mdecode(detect_encoding(s), \u001b[39m'\u001b[39m\u001b[39msurrogatepass\u001b[39m\u001b[39m'\u001b[39m)\n\u001b[1;32m    343\u001b[0m \u001b[39mif\u001b[39;00m (\u001b[39mcls\u001b[39m \u001b[39mis\u001b[39;00m \u001b[39mNone\u001b[39;00m \u001b[39mand\u001b[39;00m object_hook \u001b[39mis\u001b[39;00m \u001b[39mNone\u001b[39;00m \u001b[39mand\u001b[39;00m\n\u001b[1;32m    344\u001b[0m         parse_int \u001b[39mis\u001b[39;00m \u001b[39mNone\u001b[39;00m \u001b[39mand\u001b[39;00m parse_float \u001b[39mis\u001b[39;00m \u001b[39mNone\u001b[39;00m \u001b[39mand\u001b[39;00m\n\u001b[1;32m    345\u001b[0m         parse_constant \u001b[39mis\u001b[39;00m \u001b[39mNone\u001b[39;00m \u001b[39mand\u001b[39;00m object_pairs_hook \u001b[39mis\u001b[39;00m \u001b[39mNone\u001b[39;00m \u001b[39mand\u001b[39;00m \u001b[39mnot\u001b[39;00m kw):\n",
      "\u001b[0;31mTypeError\u001b[0m: the JSON object must be str, bytes or bytearray, not dict"
     ]
    }
   ],
   "source": [
    "new_qas = json.loads(answers)"
   ]
  },
  {
   "cell_type": "code",
   "execution_count": null,
   "metadata": {},
   "outputs": [],
   "source": []
  }
 ],
 "metadata": {
  "kernelspec": {
   "display_name": "base",
   "language": "python",
   "name": "python3"
  },
  "language_info": {
   "codemirror_mode": {
    "name": "ipython",
    "version": 3
   },
   "file_extension": ".py",
   "mimetype": "text/x-python",
   "name": "python",
   "nbconvert_exporter": "python",
   "pygments_lexer": "ipython3",
   "version": "3.9.12"
  },
  "orig_nbformat": 4
 },
 "nbformat": 4,
 "nbformat_minor": 2
}
