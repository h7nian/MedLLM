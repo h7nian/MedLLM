{
 "cells": [
  {
   "cell_type": "code",
   "execution_count": 3,
   "metadata": {},
   "outputs": [],
   "source": [
    "import pandas as pd\n",
    "import re\n",
    "import matplotlib.pyplot as plt\n",
    "import numpy as np\n",
    "import pandas as pd\n",
    "import re\n",
    "import nltk\n",
    "from nltk.stem.porter import PorterStemmer\n",
    "porter = PorterStemmer()\n",
    "from nltk.tokenize import RegexpTokenizer\n",
    "tokenizer = RegexpTokenizer(r'\\w+')\n",
    "bigram_measures = nltk.collocations.BigramAssocMeasures()\n",
    "trigram_measures = nltk.collocations.TrigramAssocMeasures()\n",
    "import pickle\n",
    "from tqdm import tqdm\n",
    "from itertools import chain"
   ]
  },
  {
   "cell_type": "code",
   "execution_count": 4,
   "metadata": {},
   "outputs": [],
   "source": [
    "def DataClean(data_path,labels_path,write_path=None,delete=None):\n",
    "    \n",
    "    '''\n",
    "    data_path: the file containing the notes.\n",
    "    labels_path: the file containing the titles.\n",
    "    write_path: the destination pkl file for writing the result.\n",
    "    delete: whether to delete the useless infomation like name etc..\n",
    "    '''\n",
    "    \n",
    "    print('\\n\\nImporting and filtering database...')\n",
    "    notes = pd.read_csv(data_path)\n",
    "    ints_str = '0123456789-#[]' # characters that usually main categories don't start with\n",
    "    \n",
    "    print('\\n\\nSplitting each note into sections:\\n\\n')\n",
    "    notes_sections = {}\n",
    "    for note_index in tqdm(range(notes.shape[0])):\n",
    "        note = notes['text'][note_index].replace('\\n\\n\\n\\n','\\n').replace('\\n\\n\\n','\\n').replace('     ','\\n')\n",
    "        paragraphs = note.split('\\n')\n",
    "        \n",
    "        subsections, new_section = [], ' '\n",
    "        for p in paragraphs:\n",
    "            line = p.strip()\n",
    "            if len(line)>0 and ':' in line and not (line[line.find(':')-1] in ints_str) and not(line[0] in ints_str):\n",
    "                subsections.append([new_section.strip()])\n",
    "                new_section = p + ' '\n",
    "            else:\n",
    "                new_section += p + ' '\n",
    "        subsections.append([new_section])\n",
    "        subsections.pop(0)\n",
    "\n",
    "        note_sect_tit,note_sect_par = [],[]\n",
    "        for sect in subsections:\n",
    "            note_sect_tit += [str(*sect)[0:str(*sect).find(':')]]\n",
    "            note_sect_par += [str(*sect)[str(*sect).find(':')+1:].strip()]\n",
    "        note_df = pd.DataFrame({'title':note_sect_tit,'category':'','text':note_sect_par, 'label':''})\n",
    "        notes_sections[notes['note_id'][note_index]] = note_df\n",
    "    \n",
    "    f = open(labels_path, 'r')\n",
    "    obj_label = f.readlines()\n",
    "    obj_label_dict = {}\n",
    "    i = 0\n",
    "    for s in obj_label:\n",
    "        i += 1\n",
    "        if '/' in s:\n",
    "            buffer = s.strip('\\n').lower().split('/')\n",
    "            for item in buffer:\n",
    "                obj_label_dict[item] = i\n",
    "        else:\n",
    "            obj_label_dict[s.strip('\\n').lower()] = i\n",
    "    f.close()\n",
    "\n",
    "    for key in tqdm(list(notes_sections.keys())):\n",
    "        buffer = 'begin_title'\n",
    "        t = list(notes_sections[key]['title'])\n",
    "        for idx in range(len(t)):\n",
    "            for item in list(obj_label_dict.keys()):\n",
    "                if item in t[idx].lower() and len(t[idx].lower())>2:\n",
    "                    buffer = item\n",
    "                    notes_sections[key]['category'][idx] = buffer\n",
    "                    notes_sections[key]['label'][idx] = obj_label_dict[buffer]\n",
    "                    break\n",
    "            notes_sections[key]['category'][idx] = buffer\n",
    "            notes_sections[key]['label'][idx] = obj_label_dict[buffer]\n",
    "\n",
    "    notes_sections_output = {}\n",
    "    row_id  = notes_sections.keys()\n",
    "    for key in tqdm(row_id):\n",
    "        buffer = ''\n",
    "        note_sect_tit, note_sect_par, note_sect_lab = [], [], []\n",
    "        for i in range(len(notes_sections[key]['category'])):\n",
    "            if buffer != notes_sections[key]['category'][i]:\n",
    "                buffer = notes_sections[key]['category'][i]\n",
    "                note_sect_tit.append(buffer)\n",
    "                note_sect_lab.append(notes_sections[key]['title'][i])\n",
    "                note_sect_par.append(notes_sections[key]['text'][i])\n",
    "                # if buffer == 'followup instruction' or buffer == 'follow up' or buffer == 'follow-up':\n",
    "                #     break\n",
    "            else:\n",
    "                note_sect_par[-1] = note_sect_par[-1] + ' ' + notes_sections[key]['title'][i] + ' ' + notes_sections[key]['text'][i]\n",
    "        note_df = pd.DataFrame({'title': note_sect_tit, 'text': note_sect_par, 'label': note_sect_lab})\n",
    "        notes_sections_output[key] = note_df\n",
    "\n",
    "\n",
    "    notes_sections = notes_sections_output\n",
    "    \n",
    "    if delete != None:\n",
    "        for key,value in notes_sections.items():\n",
    "            notes_sections[key] = notes_sections[key][~notes_sections[key]['label'].isin(delete)]\n",
    "\n",
    "    if write_path != None:\n",
    "        f = open(write_path,\"wb\")\n",
    "        pickle.dump(notes_sections,f)\n",
    "        f.close()\n",
    "    \n",
    "    return notes_sections"
   ]
  },
  {
   "cell_type": "code",
   "execution_count": 5,
   "metadata": {},
   "outputs": [
    {
     "name": "stdout",
     "output_type": "stream",
     "text": [
      "\n",
      "\n",
      "Importing and filtering database...\n",
      "\n",
      "\n",
      "Splitting each note into sections:\n",
      "\n",
      "\n"
     ]
    },
    {
     "name": "stderr",
     "output_type": "stream",
     "text": [
      "100%|██████████| 20/20 [00:00<00:00, 1835.06it/s]\n",
      "100%|██████████| 20/20 [00:00<00:00, 68.11it/s]\n",
      "100%|██████████| 20/20 [00:00<00:00, 1165.85it/s]\n"
     ]
    }
   ],
   "source": [
    "NotesSections = DataClean(\"mimiciv_discharge.csv\",\"labels.txt\",\"notes.pkl\",delete=['Name','Admission Date','Discharge Date','Date of Birth','Followup Instructions'])"
   ]
  },
  {
   "cell_type": "code",
   "execution_count": 6,
   "metadata": {},
   "outputs": [
    {
     "name": "stderr",
     "output_type": "stream",
     "text": [
      "The tokenizer class you load from this checkpoint is not the same type as the class this function is called from. It may result in unexpected tokenization. \n",
      "The tokenizer class you load from this checkpoint is 'LLaMATokenizer'. \n",
      "The class this function is called from is 'LlamaTokenizer'.\n"
     ]
    }
   ],
   "source": [
    "from transformers import LlamaTokenizer\n",
    "\n",
    "tokenizer = LlamaTokenizer.from_pretrained(\"decapoda-research/llama-13b-hf\")"
   ]
  },
  {
   "cell_type": "code",
   "execution_count": 7,
   "metadata": {},
   "outputs": [],
   "source": [
    "Length = []\n",
    "for value in NotesSections.values():\n",
    "    Temp = value['text'].apply(lambda x: len(tokenizer.tokenize(x))).tolist()\n",
    "    Length = Length + Temp"
   ]
  },
  {
   "cell_type": "code",
   "execution_count": 8,
   "metadata": {},
   "outputs": [
    {
     "data": {
      "image/png": "[encoded data removed]",
      "text/plain": [
       "<Figure size 432x288 with 1 Axes>"
      ]
     },
     "metadata": {
      "needs_background": "light"
     },
     "output_type": "display_data"
    }
   ],
   "source": [
    "plt.hist(Length)\n",
    "plt.xlabel(\"Length of Text\")\n",
    "plt.ylabel(\"Frequency\")\n",
    "plt.show()"
   ]
  },
  {
   "cell_type": "code",
   "execution_count": 10,
   "metadata": {},
   "outputs": [
    {
     "data": {
      "text/plain": [
       "dict"
      ]
     },
     "execution_count": 10,
     "metadata": {},
     "output_type": "execute_result"
    }
   ],
   "source": [
    "type(NotesSections)"
   ]
  },
  {
   "cell_type": "code",
   "execution_count": 13,
   "metadata": {},
   "outputs": [
    {
     "name": "stdout",
     "output_type": "stream",
     "text": [
      "0 10034049-DS-19\n",
      "1 10034049-DS-20\n",
      "2 10053872-DS-7\n",
      "3 10071869-DS-19\n",
      "4 10099592-DS-14\n",
      "5 10002131-DS-16\n",
      "6 10015785-DS-16\n",
      "7 10015785-DS-17\n",
      "8 10020640-DS-8\n",
      "9 10024913-DS-19\n",
      "10 11483216-DS-9\n",
      "11 13931492-DS-17\n",
      "12 13977966-DS-14\n",
      "13 17426206-DS-20\n",
      "14 17465152-DS-3\n",
      "15 10013643-DS-23\n",
      "16 10120109-DS-10\n",
      "17 10136839-DS-15\n",
      "18 10139387-DS-20\n",
      "19 10172708-DS-8\n"
     ]
    }
   ],
   "source": [
    "for row,key in enumerate(NotesSections.keys()):\n",
    "    print(row,key)"
   ]
  },
  {
   "cell_type": "code",
   "execution_count": 35,
   "metadata": {},
   "outputs": [],
   "source": [
    "data = NotesSections['10136839-DS-15']"
   ]
  },
  {
   "cell_type": "code",
   "execution_count": 36,
   "metadata": {},
   "outputs": [],
   "source": [
    "data['temp'] = data['label'] + \": \" + data['text']"
   ]
  },
  {
   "cell_type": "code",
   "execution_count": 37,
   "metadata": {},
   "outputs": [
    {
     "data": {
      "text/html": [
       "<div>\n",
       "<style scoped>\n",
       "    .dataframe tbody tr th:only-of-type {\n",
       "        vertical-align: middle;\n",
       "    }\n",
       "\n",
       "    .dataframe tbody tr th {\n",
       "        vertical-align: top;\n",
       "    }\n",
       "\n",
       "    .dataframe thead th {\n",
       "        text-align: right;\n",
       "    }\n",
       "</style>\n",
       "<table border=\"1\" class=\"dataframe\">\n",
       "  <thead>\n",
       "    <tr style=\"text-align: right;\">\n",
       "      <th></th>\n",
       "      <th>title</th>\n",
       "      <th>text</th>\n",
       "      <th>label</th>\n",
       "      <th>temp</th>\n",
       "    </tr>\n",
       "  </thead>\n",
       "  <tbody>\n",
       "    <tr>\n",
       "      <th>4</th>\n",
       "      <td>sex</td>\n",
       "      <td>M</td>\n",
       "      <td>Sex</td>\n",
       "      <td>Sex: M</td>\n",
       "    </tr>\n",
       "    <tr>\n",
       "      <th>5</th>\n",
       "      <td>service</td>\n",
       "      <td>MEDICINE</td>\n",
       "      <td>Service</td>\n",
       "      <td>Service: MEDICINE</td>\n",
       "    </tr>\n",
       "    <tr>\n",
       "      <th>6</th>\n",
       "      <td>allergies</td>\n",
       "      <td>No Known Allergies / Adverse Drug Reactions</td>\n",
       "      <td>Allergies</td>\n",
       "      <td>Allergies: No Known Allergies / Adverse Drug R...</td>\n",
       "    </tr>\n",
       "    <tr>\n",
       "      <th>7</th>\n",
       "      <td>attending</td>\n",
       "      <td>___.</td>\n",
       "      <td>Attending</td>\n",
       "      <td>Attending: ___.</td>\n",
       "    </tr>\n",
       "    <tr>\n",
       "      <th>8</th>\n",
       "      <td>chief complaint</td>\n",
       "      <td>Planned admission for allogenic stem cell tran...</td>\n",
       "      <td>Chief Complaint</td>\n",
       "      <td>Chief Complaint: Planned admission for allogen...</td>\n",
       "    </tr>\n",
       "    <tr>\n",
       "      <th>9</th>\n",
       "      <td>major surgical or invasive procedure</td>\n",
       "      <td>Allogeneic stem cell transplant (___)</td>\n",
       "      <td>Major Surgical or Invasive Procedure</td>\n",
       "      <td>Major Surgical or Invasive Procedure: Allogene...</td>\n",
       "    </tr>\n",
       "    <tr>\n",
       "      <th>10</th>\n",
       "      <td>history of present illness</td>\n",
       "      <td>___ with no significant medical history with r...</td>\n",
       "      <td>History of Present Illness</td>\n",
       "      <td>History of Present Illness: ___ with no signif...</td>\n",
       "    </tr>\n",
       "    <tr>\n",
       "      <th>11</th>\n",
       "      <td>past medical history</td>\n",
       "      <td>TREATMENT COURSE ___ INITIAL BMBX  AML ___  I...</td>\n",
       "      <td>Past Medical History</td>\n",
       "      <td>Past Medical History:  TREATMENT COURSE ___ IN...</td>\n",
       "    </tr>\n",
       "    <tr>\n",
       "      <th>12</th>\n",
       "      <td>discharge date</td>\n",
       "      <td>___ CONDITIONING REGIMEN ___ GVHD Prophylaxis ...</td>\n",
       "      <td>DISCHARGE DATE</td>\n",
       "      <td>DISCHARGE DATE: ___ CONDITIONING REGIMEN ___ G...</td>\n",
       "    </tr>\n",
       "    <tr>\n",
       "      <th>13</th>\n",
       "      <td>social history</td>\n",
       "      <td>___</td>\n",
       "      <td>Social History</td>\n",
       "      <td>Social History: ___</td>\n",
       "    </tr>\n",
       "    <tr>\n",
       "      <th>14</th>\n",
       "      <td>family history</td>\n",
       "      <td>No history of cancer in the family Children 3 ...</td>\n",
       "      <td>Family History</td>\n",
       "      <td>Family History: No history of cancer in the fa...</td>\n",
       "    </tr>\n",
       "    <tr>\n",
       "      <th>15</th>\n",
       "      <td>physical exam</td>\n",
       "      <td>ADMISSION ========= Vitals AF 125/71 HR 62 RR ...</td>\n",
       "      <td>Physical Exam</td>\n",
       "      <td>Physical Exam: ADMISSION ========= Vitals AF 1...</td>\n",
       "    </tr>\n",
       "    <tr>\n",
       "      <th>16</th>\n",
       "      <td>pertinent result</td>\n",
       "      <td>ADMISSION LABS ============== ___ 11:47AM BLOO...</td>\n",
       "      <td>Pertinent Results</td>\n",
       "      <td>Pertinent Results: ADMISSION LABS ============...</td>\n",
       "    </tr>\n",
       "    <tr>\n",
       "      <th>17</th>\n",
       "      <td>brief hospital course</td>\n",
       "      <td>SUMMARY ___ with relapsed AML, 24 months afte...</td>\n",
       "      <td>Brief Hospital Course</td>\n",
       "      <td>Brief Hospital Course:  SUMMARY ___ with relap...</td>\n",
       "    </tr>\n",
       "    <tr>\n",
       "      <th>18</th>\n",
       "      <td>medications on admission</td>\n",
       "      <td>The Preadmission Medication list is accurate a...</td>\n",
       "      <td>Medications on Admission</td>\n",
       "      <td>Medications on Admission: The Preadmission Med...</td>\n",
       "    </tr>\n",
       "    <tr>\n",
       "      <th>19</th>\n",
       "      <td>discharge medication</td>\n",
       "      <td>1.  FoLIC Acid 1 mg PO DAILY  RX *folic acid 1...</td>\n",
       "      <td>Discharge Medications</td>\n",
       "      <td>Discharge Medications: 1.  FoLIC Acid 1 mg PO ...</td>\n",
       "    </tr>\n",
       "    <tr>\n",
       "      <th>20</th>\n",
       "      <td>discharge disposition</td>\n",
       "      <td>Home With Service</td>\n",
       "      <td>Discharge Disposition</td>\n",
       "      <td>Discharge Disposition: Home With Service</td>\n",
       "    </tr>\n",
       "    <tr>\n",
       "      <th>21</th>\n",
       "      <td>facility</td>\n",
       "      <td>___</td>\n",
       "      <td>Facility</td>\n",
       "      <td>Facility: ___</td>\n",
       "    </tr>\n",
       "    <tr>\n",
       "      <th>22</th>\n",
       "      <td>discharge diagnosis</td>\n",
       "      <td>PRIMARY DIAGNOSIS ================ Acute myelo...</td>\n",
       "      <td>Discharge Diagnosis</td>\n",
       "      <td>Discharge Diagnosis: PRIMARY DIAGNOSIS =======...</td>\n",
       "    </tr>\n",
       "    <tr>\n",
       "      <th>23</th>\n",
       "      <td>discharge condition</td>\n",
       "      <td>Mental Status Clear and coherent. Level of Co...</td>\n",
       "      <td>Discharge Condition</td>\n",
       "      <td>Discharge Condition:  Mental Status Clear and ...</td>\n",
       "    </tr>\n",
       "    <tr>\n",
       "      <th>24</th>\n",
       "      <td>discharge instruction</td>\n",
       "      <td>Dear Mr. ___,  It was a pleasure taking care o...</td>\n",
       "      <td>Discharge Instructions</td>\n",
       "      <td>Discharge Instructions: Dear Mr. ___,  It was ...</td>\n",
       "    </tr>\n",
       "  </tbody>\n",
       "</table>\n",
       "</div>"
      ],
      "text/plain": [
       "                                   title  \\\n",
       "4                                    sex   \n",
       "5                                service   \n",
       "6                              allergies   \n",
       "7                              attending   \n",
       "8                        chief complaint   \n",
       "9   major surgical or invasive procedure   \n",
       "10            history of present illness   \n",
       "11                  past medical history   \n",
       "12                        discharge date   \n",
       "13                        social history   \n",
       "14                        family history   \n",
       "15                         physical exam   \n",
       "16                      pertinent result   \n",
       "17                 brief hospital course   \n",
       "18              medications on admission   \n",
       "19                  discharge medication   \n",
       "20                 discharge disposition   \n",
       "21                              facility   \n",
       "22                   discharge diagnosis   \n",
       "23                   discharge condition   \n",
       "24                 discharge instruction   \n",
       "\n",
       "                                                 text  \\\n",
       "4                                                   M   \n",
       "5                                            MEDICINE   \n",
       "6         No Known Allergies / Adverse Drug Reactions   \n",
       "7                                                ___.   \n",
       "8   Planned admission for allogenic stem cell tran...   \n",
       "9               Allogeneic stem cell transplant (___)   \n",
       "10  ___ with no significant medical history with r...   \n",
       "11   TREATMENT COURSE ___ INITIAL BMBX  AML ___  I...   \n",
       "12  ___ CONDITIONING REGIMEN ___ GVHD Prophylaxis ...   \n",
       "13                                                ___   \n",
       "14  No history of cancer in the family Children 3 ...   \n",
       "15  ADMISSION ========= Vitals AF 125/71 HR 62 RR ...   \n",
       "16  ADMISSION LABS ============== ___ 11:47AM BLOO...   \n",
       "17   SUMMARY ___ with relapsed AML, 24 months afte...   \n",
       "18  The Preadmission Medication list is accurate a...   \n",
       "19  1.  FoLIC Acid 1 mg PO DAILY  RX *folic acid 1...   \n",
       "20                                  Home With Service   \n",
       "21                                                ___   \n",
       "22  PRIMARY DIAGNOSIS ================ Acute myelo...   \n",
       "23   Mental Status Clear and coherent. Level of Co...   \n",
       "24  Dear Mr. ___,  It was a pleasure taking care o...   \n",
       "\n",
       "                                   label  \\\n",
       "4                                    Sex   \n",
       "5                                Service   \n",
       "6                              Allergies   \n",
       "7                              Attending   \n",
       "8                        Chief Complaint   \n",
       "9   Major Surgical or Invasive Procedure   \n",
       "10            History of Present Illness   \n",
       "11                  Past Medical History   \n",
       "12                        DISCHARGE DATE   \n",
       "13                        Social History   \n",
       "14                        Family History   \n",
       "15                         Physical Exam   \n",
       "16                     Pertinent Results   \n",
       "17                 Brief Hospital Course   \n",
       "18              Medications on Admission   \n",
       "19                 Discharge Medications   \n",
       "20                 Discharge Disposition   \n",
       "21                              Facility   \n",
       "22                   Discharge Diagnosis   \n",
       "23                   Discharge Condition   \n",
       "24                Discharge Instructions   \n",
       "\n",
       "                                                 temp  \n",
       "4                                              Sex: M  \n",
       "5                                   Service: MEDICINE  \n",
       "6   Allergies: No Known Allergies / Adverse Drug R...  \n",
       "7                                     Attending: ___.  \n",
       "8   Chief Complaint: Planned admission for allogen...  \n",
       "9   Major Surgical or Invasive Procedure: Allogene...  \n",
       "10  History of Present Illness: ___ with no signif...  \n",
       "11  Past Medical History:  TREATMENT COURSE ___ IN...  \n",
       "12  DISCHARGE DATE: ___ CONDITIONING REGIMEN ___ G...  \n",
       "13                                Social History: ___  \n",
       "14  Family History: No history of cancer in the fa...  \n",
       "15  Physical Exam: ADMISSION ========= Vitals AF 1...  \n",
       "16  Pertinent Results: ADMISSION LABS ============...  \n",
       "17  Brief Hospital Course:  SUMMARY ___ with relap...  \n",
       "18  Medications on Admission: The Preadmission Med...  \n",
       "19  Discharge Medications: 1.  FoLIC Acid 1 mg PO ...  \n",
       "20           Discharge Disposition: Home With Service  \n",
       "21                                      Facility: ___  \n",
       "22  Discharge Diagnosis: PRIMARY DIAGNOSIS =======...  \n",
       "23  Discharge Condition:  Mental Status Clear and ...  \n",
       "24  Discharge Instructions: Dear Mr. ___,  It was ...  "
      ]
     },
     "execution_count": 37,
     "metadata": {},
     "output_type": "execute_result"
    }
   ],
   "source": [
    "data"
   ]
  },
  {
   "cell_type": "code",
   "execution_count": 38,
   "metadata": {},
   "outputs": [
    {
     "data": {
      "text/plain": [
       "'Sex: M Service: MEDICINE Allergies: No Known Allergies / Adverse Drug Reactions Attending: ___. Chief Complaint: Planned admission for allogenic stem cell transplant Major Surgical or Invasive Procedure: Allogeneic stem cell transplant (___) History of Present Illness: ___ with no significant medical history with relapsed AML, 24 months (day 694) after MRD allo-transplant s/p reinduction therapy with MEC + Lenalidomide, here for planned admission for second allo transplant with a different, unrelated donor.   The patient initially presented in ___ after several weeks of progressive fatigue and was found to be anemic when  attempting to donate blood to ___. Bone marrow biopsy showed AML and he had his first allogeneic SCT on ___. Over the last few years he had been doing well until recently where he was noted  to have persistent cytopenias despite discontinuing certain bone marrow suppressive medications. Repeat bone marrow biopsy on ___ showed relapsed AML. He subsequently underwent induction with MEC+Lenalidomide which was well tolerated other than a 24 pound weight loss. Bone marrow biopsy on ___ showed morphologic remission.   Today, ___ states that he is feeling very well. He had his central line placed by ___ and says that it is not causing too much discomfort. Importantly, he has gained some of his weight back, though his appetite is not what it used to be. Review of systems is otherwise completely negative. Past Medical History:  TREATMENT COURSE ___ INITIAL BMBX  AML ___  INDUCTION DAUNOrubicin (60mg/m2) Cytarabine (100mg/m2)   ___  D+14 BMBx ablated ___  D+28 LP with IT 70 mg Cytarabine ___  D+29 hematologic recovery ___   Bone marrow biopsy remission FLT3 negative  ___  HiDAC,  BMBx remission FLT3 negative ___  BMBX pre-transplant  ALLOGENEIC TRANSPLANT ADMISSION ADMIT DATE ___ DISCHARGE DATE: ___ CONDITIONING REGIMEN ___ GVHD Prophylaxis tacrolimus and MTX DAY 0: ___ CELL DOSE CD34/kg = 7.80e6 RECIPIENT  is CMV(+), ABO Oneg DONOR is CMV(-), ABO Opos, HLA= ___ with a permissive DPB1 WBC ENGRAFTMENT ___ PLT ENGRAFTMENT ___ PRBC TRANSFUSION DURING ADMISSION 0 units PLT TRANSFUSION DURING ADMISSION 2 units POST TRANSPLANT IN PATIENT COMPLICATIONS 1) Fever with  ATG Work up and cultures negative 2) Fever on D+14, no source  ___ D+74 mild thrombocytopenia, BMBx done chimerisms 99% donor, no evidence of leukemia, NPM1-, FLT3 pending  ___ D+82 stopped posaconazole, Rx for sorafanib  ___ D+95 diffuse macular rash, Sorafanib stopped  ___ Admission for abdominal pain, fever and rash EGD negative for GVHD, rash consistent with drug rash.   ___ restarted sorafanib  ___ D +182 Stopped tacrolimus  ___ D +365 ___ vaccinations   ___ D+424 ___ vaccinations  ___ D+550 ___ vaccinations Modified based on new vaccine  SOP, CHEMERISM 100% donor  ___ mild pancytopenia, stopped sorafanib, bactrim changed to pentamidine ___ progressive cytopenias, BMX RELAPSED AML (NPM1+, CEBPA+, TET2+)  ___ Started Lenalidomide 50 mg D1-10 --___ MEC  --___ count recovery ANC >1000, PLT >100,000 --___ BMBX (morphological remission, MRD (+)  ___ plan for admission for ___ allo Flu/Mel conditioning, MUD (different donor) ___ BMBx  BONE MARROW ASPIRATE AND CORE BIOPSY DIAGNOSIS ACUTE MYELOID LEUKEMIA; SEE NOTE. Note The aspirate smears revealed a population of blasts representing 37% of the aspirate differential count. The core biopsy shows an abnormal infiltrate of immature mononuclear  cells consistent with blasts representing 40-50% of the overall cellularity. Corresponding flow cytometry revealed involvement  by an abnormal population of CD34 negative/CD117 positive myeloblasts representing 36% of total analyzed events (see separate report ___ for full results). The morphologic and immunophenotypic features are in keeping with involvement by relapsed acute myeloid leukemia. The erythroid dysplasia is of unclear significance. Correlation with clinical, cytogenetics (see separate report ___-___) and other ancillary testing results is recommended for further characterization. PAST MEDICAL/SURGICAL HISTORY AML s/p alloSCT ___  Ventral hernia s/p repair as a child Lipoma Anxiety Social History: ___ Family History: No history of cancer in the family Children 3 children ages ___, ___, ___ 2 siblings, 1 sister and 1 brother, both healthy and live  locally Physical Exam: ADMISSION ========= Vitals AF 125/71 HR 62 RR 20 O2 97 RA Gen Pleasant, calm and well appearing HEENT Mild pallor, EOMI, clear OP LYMPH No cervical or supraclav LAD CV Normocardic, regular. Normal S1,S2. No audible murmurs. LUNGS No increased WOB. CTAB. No wheezes, crackles, or rhonchi. ABD NABS. Soft, NT, ND. EXT WWP. No ___ edema. SKIN No rashes/lesions, petechiae/purpura ecchymoses. NEURO A&Ox3. LINES newly placed right CVL with small amount of fresh blood and surrounding erythema otherwise no warmth or tenderness.   DISCHARGE ========= 24 HR Data (last updated ___ @ 907) Temp 98.2 (Tm 99.5), BP: 152/95 (134-155/81-95), HR: 62 (62-78), RR 18, O2 sat: 99% (97-100), O2 delivery: RA, Wt:  178.6 lb/81.01 kg HEENT No pallor, EOMI, OP clear CHEST Rash has resolved LYMPH No cervical LAD CV Regular rate and rhythm. Normal S1,S2. No audible murmurs. LUNGS No increased WOB. CTAB. No wheezes, crackles, or rhonchi. ABD NABS. Soft, NT, ND. No rebound or guarding. EXT WWP. No ___ edema. BACK Mild tenderness at site of LP, no hematoma appreciated SKIN No petechiae/purpura ecchymoses. NEURO A&Ox3. Conversant, mental status appears improved. LINES right CVL with no surrounding erythema, warmth, tenderness, or purulence. Pertinent Results: ADMISSION LABS ============== ___ 11:47AM BLOOD WBC-5.8 RBC-3.07* Hgb-9.7* Hct-30.3*  MCV-99* MCH-31.6 MCHC-32.0 RDW-19.6* RDWSD-70.1* Plt ___ ___ 11:47AM BLOOD Neuts-64.0 Lymphs-9.0* Monos-23.0*  Eos-2.6 Baso-0.7 Im ___ AbsNeut-3.68 AbsLymp-0.52*  AbsMono-1.32* AbsEos-0.15 AbsBaso-0.04 ___ 11:47AM BLOOD ___ PTT-25.8 ___ ___ 11:47AM BLOOD Glucose-114* UreaN-11 Creat-0.8 Na-140  K-4.6 Cl-102 HCO3-25 AnGap-13 ___ 11:47AM BLOOD ALT-29 AST-30 LD(LDH)-208 AlkPhos-125  TotBili-0.4 DirBili-<0.2 IndBili-0.4 ___ 11:47AM BLOOD TotProt-6.3* Albumin-4.2 Globuln-2.1  Calcium-9.3 Phos-3.9 Mg-2.3 UricAcd-5.3  PERTINENT RESULTS ================= CSF (___) TNC--28, RBC--93, POLYS-2, LYMPHS-76, MONOS 22  MRI BRAIN (___) FINDINGS Areas of linear dural thickening and enhancement overlying  bilateral cerebral  hemispheres, measuring 2.5 mm in maximum thickness.  Findings  are not  definitely seen on head CT ___..  No definite  decreased signal on  gradient images.  No evidence of brainstem sagging.     Moderate paranasal sinus disease.  Mild opacification bilateral  mastoids.     There is no evidence of edema, parenchymal masses, mass effect,  midline shift  or infarction.  No evidence of PRES.  The ventricles and sulci  are normal in  caliber and configuration.  Vascular flow voids are preserved.   Dural venous  sinuses are patent. IMPRESSION 1. Linear dural enhancement bilateral cerebral hemispheres,  differential  considerations include recent trauma, lumbar puncture,  inflammatory,  infectious, neoplastic process.  2. No evidence of PRES.     CHEST CT (___) IMPRESSION 1. New small bilateral pleural effusions with minimal  compressive atelectasis  of the dependent lung bases.  2. No evidence of pneumonia.  3. 1.3 cm right thyroid nodule is unchanged dating back to ___.   DISCHARGE LABS ============== ********** Brief Hospital Course:  SUMMARY ___ with relapsed AML, 24 months after allo transplant  s/p reinduction therapy with MEC + Lenalidomide, here for  planned admission for second allo transplant with a different,  matched unrelated donor. Bone marrow engrafted well and patient  cell counts had fully restored by post-transplant day 14.  Hospital course was predominantly complicated by intermittent altered mental status and neutropenic fever, as described below  ACUTE ISSUES # Relapsed AML s/p MUD allo-SCT (___) # Macrocytic anemia, stable Patient underwent reinduction with MEC + Lenalidomide (protocol  ___ phase 2 study) for treatment of adult patients with  relapsed or refractory AML and was admitted for planned allo SCT  from an unrelated donor. She received RIC conditioning with  Flu/Mel beginning ___ and Methotrexate administration on post  transplant Days 1, 6, and ___. Patient was maintained on  posaconazole, acyclovir, and atovaquone prophylaxis with plans  to initiate Bactrim prophylaxis on ___. Patient tacrolimus  levels were checked weekly and adjusted throughout his  hospitalization course (most recent level of 10.6 on ___,  regimen changed from 0.5 mg BID to 0.5/0.25 alternating  regimen). EBV viral loads measured bi-weekly (negative to date)  and CMV viral load were measured weekly and negative throughout  patient hospital course. Patient spiked intermittent low grade  fevers throughout the first two weeks of his post transplant  course without localizing symptoms and negative infectious work  up. He was managed on Vancomycin and Cefepime from ___ to ___  and remained afebrile after both medications were discontinued.  Patient pain was initially managed with oxycodone and Ativan,  however, was transitioned to Tylenol/tramadol regimen in setting  of alterations of mental status (described below)  #AMS: Patient began experiencing intermittent episodes of  altered mental status approximately 1 week after transplant. He  initially described episodes as \"hallucinations\" in which he  imagined conversations and encounters that did not occur, as  well as experiencing intermittent auditory hallucinations in  which he would hear music that was not playing. Episodes were  initially associated with headaches and patient underwent brain  MRI that was negative for PRES syndrome, however, showed  symmetric linear dural enhancement. Neuro-oncology and neurology  felt that imaging finding was likely was secondary to medication  toxicity (cefepime) and did not explain his clinical  presentation. He subsequently underwent diagnostic LP that  showed elevated protein (>90) as well as 28 TNC with lymphocytic  predominance. Flow cytometry was not consistent with CNS  involvement in AML and work-up for viral etiology was negative  (with several tests pending). Ultimately, transient nature of  waning mental status was felt to be inconsistent with infectious  etiology and symptoms were ultimately felt to be largely  secondary to multiple mind-altering medications  (oxycodone/Ativan/ambien). Patient mental status largely  improved with discontinuation of this regimen and PRN Haldol and  ramelteon regimen. Patient went several days with appropriate  mental status and without hallucinations prior to discharge.  # Weight loss # Decreased appetite 24 pound weight loss in the setting of re-induction; however  slowly regained weight post transplant. Admission weight is  89.4kg (197 lbs). Daily weights were measured and nutrition  consulted. Home vitamin D supplement continued along with a  multivitamin starting day 1. Weight on discharge is 176.8 lb CHRONIC ISSUES --------------- # Adjustment disorder # Anxiety Home citalopram was continued throughout hospital course.  Patient was initially prescribed Ativan for anxiety, however,  medication was discontinued I/s/o AMS. Patient was prescribed  ramelteon for sleep, however, ultimately was to help with sleep,  however, ultimately was able to sleep through the night without  medication. Social work followed with the patient throughout the  hospitalization.  # Sinus bradycardia:  HR 58 on admission, presumably physiologic secondary to his  young age and the fact that he is physically fit.   # Mild mitral regurgitation # Mild-moderate tricuspid regurgitation # Mild pulmonary artery hypertension Noted on echocardiogram, no cardiac or respiratory symptoms.  Euvolemic on exam. Was closely monitored for symptoms or signs  of volume overload, especially in the setting of transfusions,  however was not an active issue during his hospital course. TRANSITIONAL ISSUES [ ] Please follow up pending CSF viral serologies [ ] Please follow up final read on CSF flow cytometry [ ] Please ensure patient receives MRI ___ weeks after discharge  (monitoring of dural enhancement) [ ] Please assess tacrolimus level within 48 hours of discharge  (most recent level 10.6 on ___, discharged on alternating 0.5  daily/BID regimen) [ ] Please monitor patient mental status and ensure no return of  insomnia or hallucinations [ ] Please ensure patient initiates Bactrim prophylaxis on  ___  [ ] Discharge Cr: 0.7 [ ] New Medications: Folic Acid 1 mg, Prochlorperazine 10 mg PRN  for nausea, Ramelteon 8 mg PRN, ursodiol 300 mg BID, Bactrim 1  mg (start on ___, tacrolimus 0.5 daily/BID  [ ] Changed Medications: None [ ] Discontinued Medications: Lorazepam 0.5-1.0 mg PRN Medications on Admission: The Preadmission Medication list is accurate and complete. 1. Posaconazole Delayed Release Tablet 300 mg PO DAILY  2. Ranitidine 300 mg PO QHS  3. Atovaquone Suspension 1500 mg PO DAILY  4. Citalopram 10 mg PO DAILY  5. Acyclovir 400 mg PO Q12H  6. Sildenafil 100 mg PO DAILY:PRN sexual activity  7. LORazepam 0.5 mg PO Q6H:PRN anxiety, nausea, insomnia  8. Pantoprazole 40 mg PO DAILY  9. Vitamin D ___ UNIT PO DAILY  10. Multivitamins 1 TAB PO DAILY Discharge Medications: 1.  FoLIC Acid 1 mg PO DAILY  RX *folic acid 1 mg 1 tablet(s) by mouth daily Disp #*30 Tablet Refills *0  2.  Prochlorperazine 10 mg PO TID:PRN nausea RX *prochlorperazine maleate 10 mg 1 tablet(s) by mouth BID PRN Disp #*30 Tablet Refills *0  3.  Ramelteon 8 mg PO QHS  RX *ramelteon [Rozerem] 8 mg 1 tablet(s) by mouth QHS PRN Disp  #*30 Tablet Refills:*0  4.  Sulfameth/Trimethoprim SS 1 TAB PO DAILY  RX *sulfamethoxazole-trimethoprim 400 mg-80 mg 1 tablet(s) by mouth Daily Disp #*30 Tablet Refills *0  5.  Tacrolimus 0.5 mg PO Q12H  Please alternate taking one pill once a day and one pill twice a  day  RX *tacrolimus 0.5 mg 1 capsule(s) by mouth every twelve (12) hours Disp #*45 Capsule Refills *0  6.  Ursodiol 300 mg PO BID  RX *ursodiol 300 mg 1 capsule(s) by mouth twice a day Disp #*60 Capsule Refills *0  7.  Acyclovir 400 mg PO Q12H  RX *acyclovir 200 mg 2 capsule(s) by mouth twice a day Disp #*30 Capsule Refills *0  8.  Atovaquone Suspension 1500 mg PO DAILY RX *atovaquone 750 mg/5 mL 1500 mg by mouth Daily Refills *0  9.  Citalopram 10 mg PO DAILY  RX *citalopram 10 mg 1 tablet(s) by mouth Daily Disp #*30 Tablet Refills *0  10.  Multivitamins 1 TAB PO DAILY  RX *multivitamin [Daily Multiple]  1 tablet(s) by mouth daily Disp #*30 Tablet Refills *0  11.  Posaconazole Delayed Release Tablet 300 mg PO DAILY  RX *posaconazole [Noxafil] 100 mg 3 tablet(s) by mouth daily Disp #*30 Tablet Refills *2  12.  Ranitidine 300 mg PO QHS  RX *ranitidine HCl 300 mg 1 tablet(s) by mouth at bedtime Disp  #*30 Tablet Refills:*0  13.  Vitamin D ___ UNIT PO DAILY  RX *ergocalciferol (vitamin D2) 2,000 unit 1 tablet(s) by mouth daily Disp #*30 Tablet Refills *0 Discharge Disposition: Home With Service Facility: ___ Discharge Diagnosis: PRIMARY DIAGNOSIS ================ Acute myeloid leukemia  SECONDARY DIAGNOSIS ------------------- Altered mental status  Chronic lower back pain Discharge Condition:  Mental Status Clear and coherent. Level of Consciousness Alert and interactive. Activity Status Ambulatory - Independent. Discharge Instructions: Dear Mr. ___,  It was a pleasure taking care of you at ___.  WHY WAS I ADMITTED TO THE HOSPITAL? - You were admitted to the hospital to receive a planned stem  cell transplant.  WHAT HAPPENED WHILE I WAS IN THE HOSPITAL? - You were treated with chemotherapy and received the stem cell  transplant. - You were managed with the standardized post transplant  medications and all of your cell counts had normalized by time  of discharge. - Your hospital course was complicated by hallucinations and  generally feeling restless and unwell.  -You intermittently spiked fevers while your body was less able  to fight infections and you were managed on antibiotics. You  were afebrile for several days prior to discharge.  WHAT SHOULD I DO WHEN I GO HOME? - Please take all of your medications as prescribed and attend  all of your follow-up appointments as scheduled.  We wish you the best, Your ___ care team'"
      ]
     },
     "execution_count": 38,
     "metadata": {},
     "output_type": "execute_result"
    }
   ],
   "source": [
    "note = ' '.join(data['temp'])\n",
    "note"
   ]
  },
  {
   "cell_type": "code",
   "execution_count": 39,
   "metadata": {},
   "outputs": [],
   "source": [
    "note_num = len(tokenizer.tokenize(note))"
   ]
  },
  {
   "cell_type": "code",
   "execution_count": 40,
   "metadata": {},
   "outputs": [
    {
     "data": {
      "text/plain": [
       "5583"
      ]
     },
     "execution_count": 40,
     "metadata": {},
     "output_type": "execute_result"
    }
   ],
   "source": [
    "note_num"
   ]
  },
  {
   "cell_type": "code",
   "execution_count": 41,
   "metadata": {},
   "outputs": [],
   "source": [
    "import random"
   ]
  },
  {
   "cell_type": "code",
   "execution_count": 42,
   "metadata": {},
   "outputs": [],
   "source": [
    "# 生成随机索引\n",
    "random_index = random.randint(0, len(data) - 1)\n",
    "\n",
    "# 随机删除某一行\n",
    "data = data.drop(data.index[random_index])"
   ]
  },
  {
   "cell_type": "code",
   "execution_count": 54,
   "metadata": {},
   "outputs": [
    {
     "name": "stdout",
     "output_type": "stream",
     "text": [
      "5578\n",
      "5412\n",
      "5369\n",
      "5366\n",
      "5151\n",
      "4352\n",
      "4346\n",
      "3551\n"
     ]
    }
   ],
   "source": [
    "data = NotesSections['10136839-DS-15']\n",
    "data['temp'] = data['label'] + \": \" + data['text']\n",
    "while len(tokenizer.tokenize(' '.join(data['temp']))) > 4096:\n",
    "    random_index = random.randint(0, len(data) - 1)\n",
    "    data = data.drop(data.index[random_index])\n",
    "    print(len(tokenizer.tokenize(' '.join(data['temp']))))"
   ]
  },
  {
   "cell_type": "code",
   "execution_count": 55,
   "metadata": {},
   "outputs": [],
   "source": [
    "df = pd.read_csv('mimiciv_discharge.csv')\n",
    "df = df.loc[[19,18,17],].reset_index(drop=True)"
   ]
  },
  {
   "cell_type": "code",
   "execution_count": 34,
   "metadata": {},
   "outputs": [
    {
     "data": {
      "text/html": [
       "<div>\n",
       "<style scoped>\n",
       "    .dataframe tbody tr th:only-of-type {\n",
       "        vertical-align: middle;\n",
       "    }\n",
       "\n",
       "    .dataframe tbody tr th {\n",
       "        vertical-align: top;\n",
       "    }\n",
       "\n",
       "    .dataframe thead th {\n",
       "        text-align: right;\n",
       "    }\n",
       "</style>\n",
       "<table border=\"1\" class=\"dataframe\">\n",
       "  <thead>\n",
       "    <tr style=\"text-align: right;\">\n",
       "      <th></th>\n",
       "      <th>note_id</th>\n",
       "      <th>subject_id</th>\n",
       "      <th>hadm_id</th>\n",
       "      <th>note_type</th>\n",
       "      <th>note_seq</th>\n",
       "      <th>charttime</th>\n",
       "      <th>storetime</th>\n",
       "      <th>text</th>\n",
       "    </tr>\n",
       "  </thead>\n",
       "  <tbody>\n",
       "    <tr>\n",
       "      <th>0</th>\n",
       "      <td>10172708-DS-8</td>\n",
       "      <td>10172708</td>\n",
       "      <td>23556537</td>\n",
       "      <td>DS</td>\n",
       "      <td>8</td>\n",
       "      <td>2138-08-08 00:00:00</td>\n",
       "      <td>2138-08-08 12:59:00</td>\n",
       "      <td>\\nName:  ___                 Unit No:   ___\\n...</td>\n",
       "    </tr>\n",
       "    <tr>\n",
       "      <th>1</th>\n",
       "      <td>10139387-DS-20</td>\n",
       "      <td>10139387</td>\n",
       "      <td>28071978</td>\n",
       "      <td>DS</td>\n",
       "      <td>20</td>\n",
       "      <td>2182-09-30 00:00:00</td>\n",
       "      <td>2182-09-30 10:44:00</td>\n",
       "      <td>\\nName:  ___               Unit No:   ___\\n \\...</td>\n",
       "    </tr>\n",
       "    <tr>\n",
       "      <th>2</th>\n",
       "      <td>10136839-DS-15</td>\n",
       "      <td>10136839</td>\n",
       "      <td>25748321</td>\n",
       "      <td>DS</td>\n",
       "      <td>15</td>\n",
       "      <td>2177-08-02 00:00:00</td>\n",
       "      <td>2177-08-02 16:19:00</td>\n",
       "      <td>\\nName:  ___                 Unit No:   ___\\n...</td>\n",
       "    </tr>\n",
       "  </tbody>\n",
       "</table>\n",
       "</div>"
      ],
      "text/plain": [
       "          note_id  subject_id   hadm_id note_type  note_seq  \\\n",
       "0   10172708-DS-8    10172708  23556537        DS         8   \n",
       "1  10139387-DS-20    10139387  28071978        DS        20   \n",
       "2  10136839-DS-15    10136839  25748321        DS        15   \n",
       "\n",
       "             charttime            storetime  \\\n",
       "0  2138-08-08 00:00:00  2138-08-08 12:59:00   \n",
       "1  2182-09-30 00:00:00  2182-09-30 10:44:00   \n",
       "2  2177-08-02 00:00:00  2177-08-02 16:19:00   \n",
       "\n",
       "                                                text  \n",
       "0   \\nName:  ___                 Unit No:   ___\\n...  \n",
       "1   \\nName:  ___               Unit No:   ___\\n \\...  \n",
       "2   \\nName:  ___                 Unit No:   ___\\n...  "
      ]
     },
     "execution_count": 34,
     "metadata": {},
     "output_type": "execute_result"
    }
   ],
   "source": [
    "df"
   ]
  },
  {
   "cell_type": "code",
   "execution_count": null,
   "metadata": {},
   "outputs": [],
   "source": []
  }
 ],
 "metadata": {
  "kernelspec": {
   "display_name": "base",
   "language": "python",
   "name": "python3"
  },
  "language_info": {
   "codemirror_mode": {
    "name": "ipython",
    "version": 3
   },
   "file_extension": ".py",
   "mimetype": "text/x-python",
   "name": "python",
   "nbconvert_exporter": "python",
   "pygments_lexer": "ipython3",
   "version": "3.9.12"
  },
  "orig_nbformat": 4
 },
 "nbformat": 4,
 "nbformat_minor": 2
}
